{
 "cells": [
  {
   "cell_type": "markdown",
   "metadata": {},
   "source": [
    "# Company: Klaviyo, Data Science Excersie\n",
    "# Candidate Name:    Nikhil Sunil Nandoskar\n",
    "# Candidate Email id: nikhilnandoskar98@gmail.com\n"
   ]
  },
  {
   "cell_type": "code",
   "execution_count": 1,
   "metadata": {},
   "outputs": [],
   "source": [
    "# Imports\n",
    "import statistics\n",
    "from scipy import stats\n",
    "import numpy as np\n",
    "import pandas as pd\n",
    "import matplotlib.pyplot as plt\n",
    "%matplotlib inline"
   ]
  },
  {
   "cell_type": "code",
   "execution_count": 2,
   "metadata": {},
   "outputs": [],
   "source": [
    "# Reading the csv file and converting to dataframe using pandas\n",
    "df = data_frame = pd.read_csv(\"screening_exercise_orders_v201810.csv\")"
   ]
  },
  {
   "cell_type": "code",
   "execution_count": 3,
   "metadata": {},
   "outputs": [
    {
     "data": {
      "text/html": [
       "<div>\n",
       "<style scoped>\n",
       "    .dataframe tbody tr th:only-of-type {\n",
       "        vertical-align: middle;\n",
       "    }\n",
       "\n",
       "    .dataframe tbody tr th {\n",
       "        vertical-align: top;\n",
       "    }\n",
       "\n",
       "    .dataframe thead th {\n",
       "        text-align: right;\n",
       "    }\n",
       "</style>\n",
       "<table border=\"1\" class=\"dataframe\">\n",
       "  <thead>\n",
       "    <tr style=\"text-align: right;\">\n",
       "      <th></th>\n",
       "      <th>customer_id</th>\n",
       "      <th>gender</th>\n",
       "      <th>date</th>\n",
       "      <th>value</th>\n",
       "      <th>predicted_gender</th>\n",
       "    </tr>\n",
       "  </thead>\n",
       "  <tbody>\n",
       "    <tr>\n",
       "      <td>0</td>\n",
       "      <td>1000</td>\n",
       "      <td>0</td>\n",
       "      <td>2017-01-01 00:11:31</td>\n",
       "      <td>198.50</td>\n",
       "      <td>1</td>\n",
       "    </tr>\n",
       "    <tr>\n",
       "      <td>1</td>\n",
       "      <td>1001</td>\n",
       "      <td>0</td>\n",
       "      <td>2017-01-01 00:29:56</td>\n",
       "      <td>338.00</td>\n",
       "      <td>1</td>\n",
       "    </tr>\n",
       "    <tr>\n",
       "      <td>2</td>\n",
       "      <td>1002</td>\n",
       "      <td>1</td>\n",
       "      <td>2017-01-01 01:30:31</td>\n",
       "      <td>733.00</td>\n",
       "      <td>1</td>\n",
       "    </tr>\n",
       "    <tr>\n",
       "      <td>3</td>\n",
       "      <td>1003</td>\n",
       "      <td>1</td>\n",
       "      <td>2017-01-01 01:34:22</td>\n",
       "      <td>772.00</td>\n",
       "      <td>1</td>\n",
       "    </tr>\n",
       "    <tr>\n",
       "      <td>4</td>\n",
       "      <td>1004</td>\n",
       "      <td>0</td>\n",
       "      <td>2017-01-01 03:11:54</td>\n",
       "      <td>508.00</td>\n",
       "      <td>1</td>\n",
       "    </tr>\n",
       "    <tr>\n",
       "      <td>...</td>\n",
       "      <td>...</td>\n",
       "      <td>...</td>\n",
       "      <td>...</td>\n",
       "      <td>...</td>\n",
       "      <td>...</td>\n",
       "    </tr>\n",
       "    <tr>\n",
       "      <td>13466</td>\n",
       "      <td>9810</td>\n",
       "      <td>1</td>\n",
       "      <td>2017-12-31 22:16:20</td>\n",
       "      <td>794.44</td>\n",
       "      <td>0</td>\n",
       "    </tr>\n",
       "    <tr>\n",
       "      <td>13467</td>\n",
       "      <td>9811</td>\n",
       "      <td>1</td>\n",
       "      <td>2017-12-31 22:24:06</td>\n",
       "      <td>148.60</td>\n",
       "      <td>0</td>\n",
       "    </tr>\n",
       "    <tr>\n",
       "      <td>13468</td>\n",
       "      <td>9812</td>\n",
       "      <td>0</td>\n",
       "      <td>2017-12-31 23:01:10</td>\n",
       "      <td>153.00</td>\n",
       "      <td>1</td>\n",
       "    </tr>\n",
       "    <tr>\n",
       "      <td>13469</td>\n",
       "      <td>9813</td>\n",
       "      <td>0</td>\n",
       "      <td>2017-12-31 23:11:02</td>\n",
       "      <td>534.00</td>\n",
       "      <td>1</td>\n",
       "    </tr>\n",
       "    <tr>\n",
       "      <td>13470</td>\n",
       "      <td>8658</td>\n",
       "      <td>0</td>\n",
       "      <td>2017-12-31 23:35:09</td>\n",
       "      <td>306.60</td>\n",
       "      <td>1</td>\n",
       "    </tr>\n",
       "  </tbody>\n",
       "</table>\n",
       "<p>13471 rows × 5 columns</p>\n",
       "</div>"
      ],
      "text/plain": [
       "       customer_id  gender                 date   value  predicted_gender\n",
       "0             1000       0  2017-01-01 00:11:31  198.50                 1\n",
       "1             1001       0  2017-01-01 00:29:56  338.00                 1\n",
       "2             1002       1  2017-01-01 01:30:31  733.00                 1\n",
       "3             1003       1  2017-01-01 01:34:22  772.00                 1\n",
       "4             1004       0  2017-01-01 03:11:54  508.00                 1\n",
       "...            ...     ...                  ...     ...               ...\n",
       "13466         9810       1  2017-12-31 22:16:20  794.44                 0\n",
       "13467         9811       1  2017-12-31 22:24:06  148.60                 0\n",
       "13468         9812       0  2017-12-31 23:01:10  153.00                 1\n",
       "13469         9813       0  2017-12-31 23:11:02  534.00                 1\n",
       "13470         8658       0  2017-12-31 23:35:09  306.60                 1\n",
       "\n",
       "[13471 rows x 5 columns]"
      ]
     },
     "execution_count": 3,
     "metadata": {},
     "output_type": "execute_result"
    }
   ],
   "source": [
    "df"
   ]
  },
  {
   "cell_type": "code",
   "execution_count": 4,
   "metadata": {},
   "outputs": [
    {
     "data": {
      "text/plain": [
       "8814"
      ]
     },
     "execution_count": 4,
     "metadata": {},
     "output_type": "execute_result"
    }
   ],
   "source": [
    "# Total number of unique customer id\n",
    "pd.unique(df[\"customer_id\"]).shape[0]"
   ]
  },
  {
   "cell_type": "code",
   "execution_count": 5,
   "metadata": {},
   "outputs": [],
   "source": [
    "# Extracting Month, Day, Year from date and and adding it back to dataframe\n",
    "df[\"date\"] = pd.to_datetime(df[\"date\"])\n",
    "df[\"Year\"] = df[\"date\"].dt.year\n",
    "df[\"Month\"] = df[\"date\"].dt.month\n",
    "df[\"Day\"] = df[\"date\"].dt.day\n",
    "df[\"Week\"] = df[\"date\"].dt.week"
   ]
  },
  {
   "cell_type": "code",
   "execution_count": 6,
   "metadata": {},
   "outputs": [],
   "source": [
    "# Droppinf date column from dataframe\n",
    "df = df.drop(\"date\",axis=1)"
   ]
  },
  {
   "cell_type": "code",
   "execution_count": 7,
   "metadata": {},
   "outputs": [],
   "source": [
    "# Sorting with respect to Month and Day in Descending order\n",
    "# as we want the latest order per customer\n",
    "df = df.sort_values([\"Month\",\"Day\"],axis=0,ascending=False)\n",
    "# Sorting with respect to Customer Id in Ascending order\n",
    "# as we want Customer Id in increasing order\n",
    "df = df.sort_values([\"customer_id\"],axis=0)\n"
   ]
  },
  {
   "cell_type": "code",
   "execution_count": 8,
   "metadata": {},
   "outputs": [
    {
     "data": {
      "text/html": [
       "<div>\n",
       "<style scoped>\n",
       "    .dataframe tbody tr th:only-of-type {\n",
       "        vertical-align: middle;\n",
       "    }\n",
       "\n",
       "    .dataframe tbody tr th {\n",
       "        vertical-align: top;\n",
       "    }\n",
       "\n",
       "    .dataframe thead th {\n",
       "        text-align: right;\n",
       "    }\n",
       "</style>\n",
       "<table border=\"1\" class=\"dataframe\">\n",
       "  <thead>\n",
       "    <tr style=\"text-align: right;\">\n",
       "      <th></th>\n",
       "      <th>customer_id</th>\n",
       "      <th>gender</th>\n",
       "      <th>value</th>\n",
       "      <th>predicted_gender</th>\n",
       "      <th>Year</th>\n",
       "      <th>Month</th>\n",
       "      <th>Day</th>\n",
       "      <th>Week</th>\n",
       "    </tr>\n",
       "  </thead>\n",
       "  <tbody>\n",
       "    <tr>\n",
       "      <td>0</td>\n",
       "      <td>1000</td>\n",
       "      <td>0</td>\n",
       "      <td>198.50</td>\n",
       "      <td>1</td>\n",
       "      <td>2017</td>\n",
       "      <td>1</td>\n",
       "      <td>1</td>\n",
       "      <td>52</td>\n",
       "    </tr>\n",
       "    <tr>\n",
       "      <td>1</td>\n",
       "      <td>1001</td>\n",
       "      <td>0</td>\n",
       "      <td>338.00</td>\n",
       "      <td>1</td>\n",
       "      <td>2017</td>\n",
       "      <td>1</td>\n",
       "      <td>1</td>\n",
       "      <td>52</td>\n",
       "    </tr>\n",
       "    <tr>\n",
       "      <td>1742</td>\n",
       "      <td>1002</td>\n",
       "      <td>1</td>\n",
       "      <td>176.00</td>\n",
       "      <td>1</td>\n",
       "      <td>2017</td>\n",
       "      <td>2</td>\n",
       "      <td>19</td>\n",
       "      <td>7</td>\n",
       "    </tr>\n",
       "    <tr>\n",
       "      <td>928</td>\n",
       "      <td>1002</td>\n",
       "      <td>1</td>\n",
       "      <td>148.60</td>\n",
       "      <td>1</td>\n",
       "      <td>2017</td>\n",
       "      <td>1</td>\n",
       "      <td>23</td>\n",
       "      <td>4</td>\n",
       "    </tr>\n",
       "    <tr>\n",
       "      <td>2</td>\n",
       "      <td>1002</td>\n",
       "      <td>1</td>\n",
       "      <td>733.00</td>\n",
       "      <td>1</td>\n",
       "      <td>2017</td>\n",
       "      <td>1</td>\n",
       "      <td>1</td>\n",
       "      <td>52</td>\n",
       "    </tr>\n",
       "    <tr>\n",
       "      <td>...</td>\n",
       "      <td>...</td>\n",
       "      <td>...</td>\n",
       "      <td>...</td>\n",
       "      <td>...</td>\n",
       "      <td>...</td>\n",
       "      <td>...</td>\n",
       "      <td>...</td>\n",
       "      <td>...</td>\n",
       "    </tr>\n",
       "    <tr>\n",
       "      <td>13465</td>\n",
       "      <td>9809</td>\n",
       "      <td>1</td>\n",
       "      <td>606.40</td>\n",
       "      <td>1</td>\n",
       "      <td>2017</td>\n",
       "      <td>12</td>\n",
       "      <td>31</td>\n",
       "      <td>52</td>\n",
       "    </tr>\n",
       "    <tr>\n",
       "      <td>13466</td>\n",
       "      <td>9810</td>\n",
       "      <td>1</td>\n",
       "      <td>794.44</td>\n",
       "      <td>0</td>\n",
       "      <td>2017</td>\n",
       "      <td>12</td>\n",
       "      <td>31</td>\n",
       "      <td>52</td>\n",
       "    </tr>\n",
       "    <tr>\n",
       "      <td>13467</td>\n",
       "      <td>9811</td>\n",
       "      <td>1</td>\n",
       "      <td>148.60</td>\n",
       "      <td>0</td>\n",
       "      <td>2017</td>\n",
       "      <td>12</td>\n",
       "      <td>31</td>\n",
       "      <td>52</td>\n",
       "    </tr>\n",
       "    <tr>\n",
       "      <td>13468</td>\n",
       "      <td>9812</td>\n",
       "      <td>0</td>\n",
       "      <td>153.00</td>\n",
       "      <td>1</td>\n",
       "      <td>2017</td>\n",
       "      <td>12</td>\n",
       "      <td>31</td>\n",
       "      <td>52</td>\n",
       "    </tr>\n",
       "    <tr>\n",
       "      <td>13469</td>\n",
       "      <td>9813</td>\n",
       "      <td>0</td>\n",
       "      <td>534.00</td>\n",
       "      <td>1</td>\n",
       "      <td>2017</td>\n",
       "      <td>12</td>\n",
       "      <td>31</td>\n",
       "      <td>52</td>\n",
       "    </tr>\n",
       "  </tbody>\n",
       "</table>\n",
       "<p>13471 rows × 8 columns</p>\n",
       "</div>"
      ],
      "text/plain": [
       "       customer_id  gender   value  predicted_gender  Year  Month  Day  Week\n",
       "0             1000       0  198.50                 1  2017      1    1    52\n",
       "1             1001       0  338.00                 1  2017      1    1    52\n",
       "1742          1002       1  176.00                 1  2017      2   19     7\n",
       "928           1002       1  148.60                 1  2017      1   23     4\n",
       "2             1002       1  733.00                 1  2017      1    1    52\n",
       "...            ...     ...     ...               ...   ...    ...  ...   ...\n",
       "13465         9809       1  606.40                 1  2017     12   31    52\n",
       "13466         9810       1  794.44                 0  2017     12   31    52\n",
       "13467         9811       1  148.60                 0  2017     12   31    52\n",
       "13468         9812       0  153.00                 1  2017     12   31    52\n",
       "13469         9813       0  534.00                 1  2017     12   31    52\n",
       "\n",
       "[13471 rows x 8 columns]"
      ]
     },
     "execution_count": 8,
     "metadata": {},
     "output_type": "execute_result"
    }
   ],
   "source": [
    "df"
   ]
  },
  {
   "cell_type": "code",
   "execution_count": 9,
   "metadata": {},
   "outputs": [],
   "source": [
    "# Creating a dictionary to count number of orders per customer\n",
    "# Here I can also use df['customer_id'].value_counts()\n",
    "dict_ = {}\n",
    "for c_id in df[\"customer_id\"]:\n",
    "    if c_id in dict_: dict_[c_id] += 1\n",
    "    else: dict_[c_id] = 1"
   ]
  },
  {
   "cell_type": "code",
   "execution_count": 10,
   "metadata": {},
   "outputs": [],
   "source": [
    "order_count = []  # List for keeping track of order count\n",
    "customer_id = []  # List for keeping track of Customer Id\n",
    "for key, value in dict_.items():\n",
    "    order_count.append(value)\n",
    "    customer_id.append(key)\n",
    "\n",
    "# Creating a dictionary in order to convert it to a dataframe\n",
    "df_dict = {\"customer_id\":customer_id, \"order_count\":order_count}"
   ]
  },
  {
   "cell_type": "code",
   "execution_count": 11,
   "metadata": {},
   "outputs": [
    {
     "data": {
      "text/plain": [
       "True"
      ]
     },
     "execution_count": 11,
     "metadata": {},
     "output_type": "execute_result"
    }
   ],
   "source": [
    "# Sanity Check\n",
    "len(order_count) == len(customer_id)"
   ]
  },
  {
   "cell_type": "code",
   "execution_count": 12,
   "metadata": {},
   "outputs": [],
   "source": [
    "#df_dict"
   ]
  },
  {
   "cell_type": "code",
   "execution_count": 13,
   "metadata": {},
   "outputs": [],
   "source": [
    "\"\"\"\n",
    "Keeping only one (first) value per customer\n",
    "As the dataframe is sorted in descending order of month and day\n",
    "we have the latest entry of order per customer\n",
    "\"\"\"\n",
    "df_drop_duplicates = df.drop_duplicates(\"customer_id\")"
   ]
  },
  {
   "cell_type": "code",
   "execution_count": 14,
   "metadata": {},
   "outputs": [
    {
     "data": {
      "text/html": [
       "<div>\n",
       "<style scoped>\n",
       "    .dataframe tbody tr th:only-of-type {\n",
       "        vertical-align: middle;\n",
       "    }\n",
       "\n",
       "    .dataframe tbody tr th {\n",
       "        vertical-align: top;\n",
       "    }\n",
       "\n",
       "    .dataframe thead th {\n",
       "        text-align: right;\n",
       "    }\n",
       "</style>\n",
       "<table border=\"1\" class=\"dataframe\">\n",
       "  <thead>\n",
       "    <tr style=\"text-align: right;\">\n",
       "      <th></th>\n",
       "      <th>customer_id</th>\n",
       "      <th>gender</th>\n",
       "      <th>value</th>\n",
       "      <th>predicted_gender</th>\n",
       "      <th>Year</th>\n",
       "      <th>Month</th>\n",
       "      <th>Day</th>\n",
       "      <th>Week</th>\n",
       "    </tr>\n",
       "  </thead>\n",
       "  <tbody>\n",
       "    <tr>\n",
       "      <td>0</td>\n",
       "      <td>1000</td>\n",
       "      <td>0</td>\n",
       "      <td>198.50</td>\n",
       "      <td>1</td>\n",
       "      <td>2017</td>\n",
       "      <td>1</td>\n",
       "      <td>1</td>\n",
       "      <td>52</td>\n",
       "    </tr>\n",
       "    <tr>\n",
       "      <td>1</td>\n",
       "      <td>1001</td>\n",
       "      <td>0</td>\n",
       "      <td>338.00</td>\n",
       "      <td>1</td>\n",
       "      <td>2017</td>\n",
       "      <td>1</td>\n",
       "      <td>1</td>\n",
       "      <td>52</td>\n",
       "    </tr>\n",
       "    <tr>\n",
       "      <td>1742</td>\n",
       "      <td>1002</td>\n",
       "      <td>1</td>\n",
       "      <td>176.00</td>\n",
       "      <td>1</td>\n",
       "      <td>2017</td>\n",
       "      <td>2</td>\n",
       "      <td>19</td>\n",
       "      <td>7</td>\n",
       "    </tr>\n",
       "    <tr>\n",
       "      <td>676</td>\n",
       "      <td>1003</td>\n",
       "      <td>1</td>\n",
       "      <td>425.50</td>\n",
       "      <td>1</td>\n",
       "      <td>2017</td>\n",
       "      <td>1</td>\n",
       "      <td>20</td>\n",
       "      <td>3</td>\n",
       "    </tr>\n",
       "    <tr>\n",
       "      <td>4</td>\n",
       "      <td>1004</td>\n",
       "      <td>0</td>\n",
       "      <td>508.00</td>\n",
       "      <td>1</td>\n",
       "      <td>2017</td>\n",
       "      <td>1</td>\n",
       "      <td>1</td>\n",
       "      <td>52</td>\n",
       "    </tr>\n",
       "    <tr>\n",
       "      <td>...</td>\n",
       "      <td>...</td>\n",
       "      <td>...</td>\n",
       "      <td>...</td>\n",
       "      <td>...</td>\n",
       "      <td>...</td>\n",
       "      <td>...</td>\n",
       "      <td>...</td>\n",
       "      <td>...</td>\n",
       "    </tr>\n",
       "    <tr>\n",
       "      <td>13465</td>\n",
       "      <td>9809</td>\n",
       "      <td>1</td>\n",
       "      <td>606.40</td>\n",
       "      <td>1</td>\n",
       "      <td>2017</td>\n",
       "      <td>12</td>\n",
       "      <td>31</td>\n",
       "      <td>52</td>\n",
       "    </tr>\n",
       "    <tr>\n",
       "      <td>13466</td>\n",
       "      <td>9810</td>\n",
       "      <td>1</td>\n",
       "      <td>794.44</td>\n",
       "      <td>0</td>\n",
       "      <td>2017</td>\n",
       "      <td>12</td>\n",
       "      <td>31</td>\n",
       "      <td>52</td>\n",
       "    </tr>\n",
       "    <tr>\n",
       "      <td>13467</td>\n",
       "      <td>9811</td>\n",
       "      <td>1</td>\n",
       "      <td>148.60</td>\n",
       "      <td>0</td>\n",
       "      <td>2017</td>\n",
       "      <td>12</td>\n",
       "      <td>31</td>\n",
       "      <td>52</td>\n",
       "    </tr>\n",
       "    <tr>\n",
       "      <td>13468</td>\n",
       "      <td>9812</td>\n",
       "      <td>0</td>\n",
       "      <td>153.00</td>\n",
       "      <td>1</td>\n",
       "      <td>2017</td>\n",
       "      <td>12</td>\n",
       "      <td>31</td>\n",
       "      <td>52</td>\n",
       "    </tr>\n",
       "    <tr>\n",
       "      <td>13469</td>\n",
       "      <td>9813</td>\n",
       "      <td>0</td>\n",
       "      <td>534.00</td>\n",
       "      <td>1</td>\n",
       "      <td>2017</td>\n",
       "      <td>12</td>\n",
       "      <td>31</td>\n",
       "      <td>52</td>\n",
       "    </tr>\n",
       "  </tbody>\n",
       "</table>\n",
       "<p>8814 rows × 8 columns</p>\n",
       "</div>"
      ],
      "text/plain": [
       "       customer_id  gender   value  predicted_gender  Year  Month  Day  Week\n",
       "0             1000       0  198.50                 1  2017      1    1    52\n",
       "1             1001       0  338.00                 1  2017      1    1    52\n",
       "1742          1002       1  176.00                 1  2017      2   19     7\n",
       "676           1003       1  425.50                 1  2017      1   20     3\n",
       "4             1004       0  508.00                 1  2017      1    1    52\n",
       "...            ...     ...     ...               ...   ...    ...  ...   ...\n",
       "13465         9809       1  606.40                 1  2017     12   31    52\n",
       "13466         9810       1  794.44                 0  2017     12   31    52\n",
       "13467         9811       1  148.60                 0  2017     12   31    52\n",
       "13468         9812       0  153.00                 1  2017     12   31    52\n",
       "13469         9813       0  534.00                 1  2017     12   31    52\n",
       "\n",
       "[8814 rows x 8 columns]"
      ]
     },
     "execution_count": 14,
     "metadata": {},
     "output_type": "execute_result"
    }
   ],
   "source": [
    "df_drop_duplicates"
   ]
  },
  {
   "cell_type": "code",
   "execution_count": 15,
   "metadata": {},
   "outputs": [
    {
     "data": {
      "text/plain": [
       "8814"
      ]
     },
     "execution_count": 15,
     "metadata": {},
     "output_type": "execute_result"
    }
   ],
   "source": [
    "# Sanity Check\n",
    "len(df_drop_duplicates)"
   ]
  },
  {
   "cell_type": "code",
   "execution_count": 16,
   "metadata": {},
   "outputs": [],
   "source": [
    "# Converting dictionary to dataframe\n",
    "dict_data_frame = pd.DataFrame.from_dict(df_dict)"
   ]
  },
  {
   "cell_type": "code",
   "execution_count": 17,
   "metadata": {},
   "outputs": [],
   "source": [
    "# Merging two dataframes\n",
    "df_A = pd.merge(dict_data_frame, df_drop_duplicates, on = 'customer_id')"
   ]
  },
  {
   "cell_type": "code",
   "execution_count": 18,
   "metadata": {},
   "outputs": [
    {
     "data": {
      "text/plain": [
       "customer_id         0\n",
       "order_count         0\n",
       "gender              0\n",
       "value               0\n",
       "predicted_gender    0\n",
       "Year                0\n",
       "Month               0\n",
       "Day                 0\n",
       "Week                0\n",
       "dtype: int64"
      ]
     },
     "execution_count": 18,
     "metadata": {},
     "output_type": "execute_result"
    }
   ],
   "source": [
    "# Checking for any Null values after merging\n",
    "df_A.isnull().sum()"
   ]
  },
  {
   "cell_type": "markdown",
   "metadata": {},
   "source": [
    "# Part A)\n",
    "Assemble a dataframe with one row per customer and the following columns:\n",
    "* customer_id\n",
    "* gender\n",
    "* most_recent_order_date\n",
    "* order_count (number of orders placed by this customer)\n",
    "Sort the dataframe by customer_id ascending and display the first 10 rows."
   ]
  },
  {
   "cell_type": "code",
   "execution_count": 19,
   "metadata": {},
   "outputs": [
    {
     "data": {
      "text/html": [
       "<div>\n",
       "<style scoped>\n",
       "    .dataframe tbody tr th:only-of-type {\n",
       "        vertical-align: middle;\n",
       "    }\n",
       "\n",
       "    .dataframe tbody tr th {\n",
       "        vertical-align: top;\n",
       "    }\n",
       "\n",
       "    .dataframe thead th {\n",
       "        text-align: right;\n",
       "    }\n",
       "</style>\n",
       "<table border=\"1\" class=\"dataframe\">\n",
       "  <thead>\n",
       "    <tr style=\"text-align: right;\">\n",
       "      <th></th>\n",
       "      <th>customer_id</th>\n",
       "      <th>gender</th>\n",
       "      <th>Month</th>\n",
       "      <th>Day</th>\n",
       "      <th>Year</th>\n",
       "      <th>Week</th>\n",
       "      <th>order_count</th>\n",
       "    </tr>\n",
       "  </thead>\n",
       "  <tbody>\n",
       "    <tr>\n",
       "      <td>0</td>\n",
       "      <td>1000</td>\n",
       "      <td>0</td>\n",
       "      <td>1</td>\n",
       "      <td>1</td>\n",
       "      <td>2017</td>\n",
       "      <td>52</td>\n",
       "      <td>1</td>\n",
       "    </tr>\n",
       "    <tr>\n",
       "      <td>1</td>\n",
       "      <td>1001</td>\n",
       "      <td>0</td>\n",
       "      <td>1</td>\n",
       "      <td>1</td>\n",
       "      <td>2017</td>\n",
       "      <td>52</td>\n",
       "      <td>1</td>\n",
       "    </tr>\n",
       "    <tr>\n",
       "      <td>2</td>\n",
       "      <td>1002</td>\n",
       "      <td>1</td>\n",
       "      <td>2</td>\n",
       "      <td>19</td>\n",
       "      <td>2017</td>\n",
       "      <td>7</td>\n",
       "      <td>3</td>\n",
       "    </tr>\n",
       "    <tr>\n",
       "      <td>3</td>\n",
       "      <td>1003</td>\n",
       "      <td>1</td>\n",
       "      <td>1</td>\n",
       "      <td>20</td>\n",
       "      <td>2017</td>\n",
       "      <td>3</td>\n",
       "      <td>4</td>\n",
       "    </tr>\n",
       "    <tr>\n",
       "      <td>4</td>\n",
       "      <td>1004</td>\n",
       "      <td>0</td>\n",
       "      <td>1</td>\n",
       "      <td>1</td>\n",
       "      <td>2017</td>\n",
       "      <td>52</td>\n",
       "      <td>1</td>\n",
       "    </tr>\n",
       "    <tr>\n",
       "      <td>5</td>\n",
       "      <td>1005</td>\n",
       "      <td>1</td>\n",
       "      <td>12</td>\n",
       "      <td>16</td>\n",
       "      <td>2017</td>\n",
       "      <td>50</td>\n",
       "      <td>2</td>\n",
       "    </tr>\n",
       "    <tr>\n",
       "      <td>6</td>\n",
       "      <td>1006</td>\n",
       "      <td>1</td>\n",
       "      <td>1</td>\n",
       "      <td>1</td>\n",
       "      <td>2017</td>\n",
       "      <td>52</td>\n",
       "      <td>3</td>\n",
       "    </tr>\n",
       "    <tr>\n",
       "      <td>7</td>\n",
       "      <td>1007</td>\n",
       "      <td>0</td>\n",
       "      <td>1</td>\n",
       "      <td>1</td>\n",
       "      <td>2017</td>\n",
       "      <td>52</td>\n",
       "      <td>1</td>\n",
       "    </tr>\n",
       "    <tr>\n",
       "      <td>8</td>\n",
       "      <td>1008</td>\n",
       "      <td>0</td>\n",
       "      <td>12</td>\n",
       "      <td>17</td>\n",
       "      <td>2017</td>\n",
       "      <td>50</td>\n",
       "      <td>3</td>\n",
       "    </tr>\n",
       "    <tr>\n",
       "      <td>9</td>\n",
       "      <td>1009</td>\n",
       "      <td>1</td>\n",
       "      <td>1</td>\n",
       "      <td>1</td>\n",
       "      <td>2017</td>\n",
       "      <td>52</td>\n",
       "      <td>1</td>\n",
       "    </tr>\n",
       "  </tbody>\n",
       "</table>\n",
       "</div>"
      ],
      "text/plain": [
       "   customer_id  gender  Month  Day  Year  Week  order_count\n",
       "0         1000       0      1    1  2017    52            1\n",
       "1         1001       0      1    1  2017    52            1\n",
       "2         1002       1      2   19  2017     7            3\n",
       "3         1003       1      1   20  2017     3            4\n",
       "4         1004       0      1    1  2017    52            1\n",
       "5         1005       1     12   16  2017    50            2\n",
       "6         1006       1      1    1  2017    52            3\n",
       "7         1007       0      1    1  2017    52            1\n",
       "8         1008       0     12   17  2017    50            3\n",
       "9         1009       1      1    1  2017    52            1"
      ]
     },
     "execution_count": 19,
     "metadata": {},
     "output_type": "execute_result"
    }
   ],
   "source": [
    "# Here most_recent_order_date == \"Month\",\"Day\",\"Year\",\"Week\"\n",
    "data_frame_A = df_A[[\"customer_id\",\"gender\",\"Month\",\"Day\",\"Year\",\"Week\",\"order_count\"]]\n",
    "data_frame_A.head(10)"
   ]
  },
  {
   "cell_type": "markdown",
   "metadata": {},
   "source": [
    "# Part B) \n",
    "Plot the count of orders per week for the store."
   ]
  },
  {
   "cell_type": "code",
   "execution_count": 20,
   "metadata": {},
   "outputs": [
    {
     "name": "stdout",
     "output_type": "stream",
     "text": [
      "Populating the interactive namespace from numpy and matplotlib\n"
     ]
    },
    {
     "data": {
      "image/png": "[encoded data removed]",
      "text/plain": [
       "<Figure size 1296x720 with 1 Axes>"
      ]
     },
     "metadata": {
      "needs_background": "light"
     },
     "output_type": "display_data"
    }
   ],
   "source": [
    "%pylab inline\n",
    "pylab.rcParams['figure.figsize'] = (18, 10)\n",
    "\n",
    "# Converting date column to date time fromat\n",
    "data_frame['date'] = pd.to_datetime(data_frame['date'])\n",
    "# Grabbing Week column\n",
    "data_frame['Week'] = data_frame.date.dt.strftime('%Y-%U')\n",
    "# Grabbing values of orders per week to be ploted\n",
    "orders_per_week = data_frame.groupby([\"Week\"])[\"value\"].count()\n",
    "orders_per_week.columns = [\"Week\",\"Orders per Week\"]\n",
    "ax = orders_per_week.plot.bar()\n",
    "# Annotating so that I can add values to the bar plot\n",
    "for i in ax.patches:\n",
    "    ax.annotate(i.get_height(), (i.get_x()+i.get_width()/2., i.get_height()), \n",
    "                ha='center', xytext=(0, 20), textcoords='offset points')\n",
    "\n",
    "plt.title(\"Count of orders per week\")\n",
    "plt.xlabel(\"Weeks\")\n",
    "plt.ylabel(\"Number of orders\")\n",
    "plt.show()"
   ]
  },
  {
   "cell_type": "markdown",
   "metadata": {},
   "source": [
    "# Part C)\n",
    "Compute the mean order value for gender 0 and for gender 1. Do you think the difference is significant?"
   ]
  },
  {
   "cell_type": "code",
   "execution_count": 21,
   "metadata": {},
   "outputs": [
    {
     "name": "stdout",
     "output_type": "stream",
     "text": [
      "Mean order value for gender 0 is: 363.89000591803506\n",
      "Varinace order value for gender 0 is: 157238.590727078\n",
      "Mean order value for gender 1 is: 350.70836114422\n",
      "Varinace order value for gender 1 is: 142509.8268249081\n",
      "Statistic Difference between gender mean is: 13.181644773815037\n",
      "Null hypothesis means the mean difference between gender 0 and gender 1 is zero\n",
      "t value is: 1.9759505628067675\n",
      "p value is: 0.048180751458726245\n"
     ]
    }
   ],
   "source": [
    "gender_0 = data_frame[data_frame[\"gender\"]==0]\n",
    "gender_0_mean = gender_0[\"value\"].mean()\n",
    "print(\"Mean order value for gender 0 is:\", gender_0_mean)\n",
    "gender_0_var = gender_0[\"value\"].var()\n",
    "print(\"Varinace order value for gender 0 is:\", gender_0_var)\n",
    "gender_1 = data_frame[data_frame[\"gender\"]==1]\n",
    "gender_1_mean = gender_1[\"value\"].mean()\n",
    "print(\"Mean order value for gender 1 is:\", gender_1_mean)\n",
    "gender_1_var = gender_1[\"value\"].var()\n",
    "print(\"Varinace order value for gender 1 is:\", gender_1_var)\n",
    "\n",
    "print(\"Statistic Difference between gender mean is:\", gender_0_mean-gender_1_mean)\n",
    "print(\"Null hypothesis means the mean difference between gender 0 and gender 1 is zero\")\n",
    "\n",
    "# Number of samples\n",
    "N = len(data_frame[\"customer_id\"])/2\n",
    "\n",
    "# Calculate Standard Deviation\n",
    "sd = np.sqrt((gender_0_var + gender_1_var)/2)\n",
    "\n",
    "# Calculate t-statistics\n",
    "t = (gender_0_mean - gender_1_mean)/(sd*np.sqrt(2/N))\n",
    "print(\"t value is:\", t)\n",
    "\n",
    "# Calculate Critical t-value\n",
    "# Degrees of freedom\n",
    "degree_freedom = 2*N - 2\n",
    "\n",
    "# p-value after comparison with t \n",
    "p = 1 - stats.t.cdf(t,df=degree_freedom)\n",
    "\n",
    "# multiply p value with 2 because its a two tail t-test\n",
    "p_new = 2*p\n",
    "\n",
    "print(\"p value is:\", p_new)"
   ]
  },
  {
   "cell_type": "code",
   "execution_count": 22,
   "metadata": {},
   "outputs": [
    {
     "name": "stdout",
     "output_type": "stream",
     "text": [
      "After observing the p value it is clear that the null hyposthesis is False and there is a significant\n",
      "difference in the mean order value of gender 0 and gender 1.\n"
     ]
    }
   ],
   "source": [
    "print(\"\"\"After observing the p value it is clear that the null hyposthesis is False and there is a significant\n",
    "difference in the mean order value of gender 0 and gender 1.\"\"\")"
   ]
  },
  {
   "cell_type": "markdown",
   "metadata": {},
   "source": [
    "# Part D)\n",
    "Assuming a single gender prediction was made for each customer, generate a confusion matrix for predicted gender. What does the confusion matrix tell you about the quality of the predictions?"
   ]
  },
  {
   "cell_type": "code",
   "execution_count": 23,
   "metadata": {},
   "outputs": [
    {
     "name": "stdout",
     "output_type": "stream",
     "text": [
      "True Postive is: 5249\n",
      "True Negative is: 3349\n",
      "False Positive is: 3410\n",
      "False Negative is: 1463\n",
      "Accuracy is: 0.6382599658525722\n",
      "Sensitivity/Recall is: 0.7820321811680572\n",
      "Specificity is: 0.495487498150614\n",
      "Positive Predictive Values/Precision is: 0.6061900912345537\n",
      "Negative Predictive Values is: 0.6959684123025769\n",
      "F1 score is: 0.6829744323726498\n"
     ]
    }
   ],
   "source": [
    "from sklearn.metrics import confusion_matrix\n",
    "\n",
    "tn, fp, fn, tp  = confusion_matrix(data_frame[\"gender\"],data_frame[\"predicted_gender\"]).ravel()\n",
    "\n",
    "acc = (tp+tn)/(tn+tp+fp+fn)\n",
    "sensitivity = tp/(tp+fn)\n",
    "specificity = tn/(tn+fp)\n",
    "ppv = tp/(tp+fp)\n",
    "npv = tn/(tn+fn)\n",
    "f1 = 2*((ppv*sensitivity)/(ppv+sensitivity))\n",
    "\n",
    "\n",
    "print(\"True Postive is:\", tp)\n",
    "print(\"True Negative is:\", tn)\n",
    "print(\"False Positive is:\", fp)\n",
    "print(\"False Negative is:\", fn)\n",
    "print(\"Accuracy is:\", acc)\n",
    "print(\"Sensitivity/Recall is:\", sensitivity)\n",
    "print(\"Specificity is:\", specificity)\n",
    "print(\"Positive Predictive Values/Precision is:\", ppv)\n",
    "print(\"Negative Predictive Values is:\", npv)\n",
    "print(\"F1 score is:\", f1)"
   ]
  },
  {
   "cell_type": "code",
   "execution_count": 24,
   "metadata": {},
   "outputs": [
    {
     "name": "stdout",
     "output_type": "stream",
     "text": [
      "According to the Confusion matrix above we can observe that the Recall is higher than Precision which means that\n",
      "there are high False Positives i.e. 3410 data points have been misclassified/predicted to be gender 0 rather than gender 1.\n",
      "Also, the accuracy is 0.6382 which is not the metric to rely on so we are looking at Precision, Recall, F1 score etc.\n"
     ]
    }
   ],
   "source": [
    "print(\"\"\"According to the Confusion matrix above we can observe that the Recall is higher than Precision which means that\n",
    "there are high False Positives i.e. 3410 data points have been misclassified/predicted to be gender 0 rather than gender 1.\n",
    "Also, the accuracy is 0.6382 which is not the metric to rely on so we are looking at Precision, Recall, F1 score etc.\"\"\")"
   ]
  },
  {
   "cell_type": "markdown",
   "metadata": {},
   "source": [
    "# Part E)\n",
    "Describe one of your favorite tools or techniques and give a small example of how it's helped you solve a problem. Limit your answer to one paragraph.\n"
   ]
  },
  {
   "cell_type": "code",
   "execution_count": 25,
   "metadata": {},
   "outputs": [
    {
     "name": "stdout",
     "output_type": "stream",
     "text": [
      "My favorite tools are Pandas, Numpy, Matplotlib, Sklearn, Keras, TensorFlow.\n",
      "Combination of all the above tools is used to solve a Data Science problem.\n",
      "Pandas is used for reading data and cleaning the dataset. Then I used Numpy for \n",
      "converting the dataframe to numpy array to form the training and testing dataset.\n",
      "Then I use sklearn for splitting the dataset into training and validation using \n",
      "either the train test split or cross validation. In my experince if the dataset is \n",
      "not huge I go with cross validation as it always results in better performance of the model\n",
      "over train-test split. \n",
      "Depending on the type of data i.e. if its a numerical data I use algorithms provided by sklearn for \n",
      "regression/classification and also design a artificial neural network of my own using keras.\n",
      "If its an image/video dataset i use TensorFlow to design my own architecture.\n",
      "Once the model is trained I use varies matrics to validate the model such as \n",
      "accuracy, precision, recall, F1 score etc.\n",
      "After getting satisfying results I deploy the model to Heroku using Flask.\n"
     ]
    }
   ],
   "source": [
    "print(\"\"\"My favorite tools are Pandas, Numpy, Matplotlib, Sklearn, Keras, TensorFlow.\n",
    "Combination of all the above tools is used to solve a Data Science problem.\n",
    "Pandas is used for reading data and cleaning the dataset. Then I used Numpy for \n",
    "converting the dataframe to numpy array to form the training and testing dataset.\n",
    "Then I use sklearn for splitting the dataset into training and validation using \n",
    "either the train test split or cross validation. In my experince if the dataset is \n",
    "not huge I go with cross validation as it always results in better performance of the model\n",
    "over train-test split. \n",
    "Depending on the type of data i.e. if its a numerical data I use algorithms provided by sklearn for \n",
    "regression/classification and also design a artificial neural network of my own using keras.\n",
    "If its an image/video dataset i use TensorFlow to design my own architecture.\n",
    "Once the model is trained I use varies matrics to validate the model such as \n",
    "accuracy, precision, recall, F1 score etc.\n",
    "After getting satisfying results I deploy the model to Heroku using Flask.\"\"\")"
   ]
  }
 ],
 "metadata": {
  "kernelspec": {
   "display_name": "Python 3",
   "language": "python",
   "name": "python3"
  },
  "language_info": {
   "codemirror_mode": {
    "name": "ipython",
    "version": 3
   },
   "file_extension": ".py",
   "mimetype": "text/x-python",
   "name": "python",
   "nbconvert_exporter": "python",
   "pygments_lexer": "ipython3",
   "version": "3.7.4"
  }
 },
 "nbformat": 4,
 "nbformat_minor": 2
}
